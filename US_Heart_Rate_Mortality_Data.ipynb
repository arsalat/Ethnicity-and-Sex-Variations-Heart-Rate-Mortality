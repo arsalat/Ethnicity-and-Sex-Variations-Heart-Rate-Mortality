{
 "cells": [
  {
   "cell_type": "markdown",
   "metadata": {},
   "source": [
    "The purpose of this project is to analyze heart rate mortality data for different counties across the US for the year 2014. According to our hypothesis, the data varies according to:\n",
    "\n",
    "1. Gender (Male or Female)\n",
    "2. Ethnicity (White, Hispanic, Black, Asian)\n",
    "3. State (Wealthier counties within a state may have lower mortality due to better lifestyle ans healthier eating choices)"
   ]
  },
  {
   "cell_type": "code",
   "execution_count": 1,
   "metadata": {},
   "outputs": [],
   "source": [
    "import pandas as pd\n",
    "import numpy as np\n",
    "\n"
   ]
  },
  {
   "cell_type": "code",
   "execution_count": 2,
   "metadata": {},
   "outputs": [
    {
     "data": {
      "text/plain": [
       "True"
      ]
     },
     "execution_count": 2,
     "metadata": {},
     "output_type": "execute_result"
    }
   ],
   "source": [
    "import os\n",
    "os.path.isfile('/Users/Diwan/Heart_Disease_Mortality.csv')"
   ]
  },
  {
   "cell_type": "code",
   "execution_count": 3,
   "metadata": {},
   "outputs": [
    {
     "data": {
      "text/plain": [
       "'C:\\\\Users\\\\Diwan'"
      ]
     },
     "execution_count": 3,
     "metadata": {},
     "output_type": "execute_result"
    }
   ],
   "source": [
    "os.getcwd()\n"
   ]
  },
  {
   "cell_type": "code",
   "execution_count": 4,
   "metadata": {},
   "outputs": [],
   "source": [
    "os.chdir('C:\\\\Users\\\\Diwan')"
   ]
  },
  {
   "cell_type": "code",
   "execution_count": 5,
   "metadata": {},
   "outputs": [
    {
     "data": {
      "text/html": [
       "<div>\n",
       "<style scoped>\n",
       "    .dataframe tbody tr th:only-of-type {\n",
       "        vertical-align: middle;\n",
       "    }\n",
       "\n",
       "    .dataframe tbody tr th {\n",
       "        vertical-align: top;\n",
       "    }\n",
       "\n",
       "    .dataframe thead th {\n",
       "        text-align: right;\n",
       "    }\n",
       "</style>\n",
       "<table border=\"1\" class=\"dataframe\">\n",
       "  <thead>\n",
       "    <tr style=\"text-align: right;\">\n",
       "      <th></th>\n",
       "      <th>State</th>\n",
       "      <th>GeographicLevel</th>\n",
       "      <th>DataSource</th>\n",
       "      <th>Class</th>\n",
       "      <th>Topic</th>\n",
       "      <th>HDM</th>\n",
       "      <th>Data_Value_Unit</th>\n",
       "      <th>Data_Value_Type</th>\n",
       "      <th>Data_Value_Footnote_Symbol</th>\n",
       "      <th>Data_Value_Footnote</th>\n",
       "      <th>StratificationCategory1</th>\n",
       "      <th>Gender</th>\n",
       "      <th>Race/Ethnicity</th>\n",
       "      <th>Ethnicity</th>\n",
       "    </tr>\n",
       "  </thead>\n",
       "  <tbody>\n",
       "    <tr>\n",
       "      <th>0</th>\n",
       "      <td>Aleutians East</td>\n",
       "      <td>County</td>\n",
       "      <td>NVSS</td>\n",
       "      <td>Cardiovascular Diseases</td>\n",
       "      <td>Heart Disease Mortality</td>\n",
       "      <td>105.3</td>\n",
       "      <td>per 100,000 population</td>\n",
       "      <td>Age-adjusted, Spatially Smoothed, 3-year Avera...</td>\n",
       "      <td>NaN</td>\n",
       "      <td>NaN</td>\n",
       "      <td>Gender</td>\n",
       "      <td>Overall</td>\n",
       "      <td>Race/Ethnicity</td>\n",
       "      <td>Overall</td>\n",
       "    </tr>\n",
       "    <tr>\n",
       "      <th>1</th>\n",
       "      <td>Aleutians West</td>\n",
       "      <td>County</td>\n",
       "      <td>NVSS</td>\n",
       "      <td>Cardiovascular Diseases</td>\n",
       "      <td>Heart Disease Mortality</td>\n",
       "      <td>211.9</td>\n",
       "      <td>per 100,000 population</td>\n",
       "      <td>Age-adjusted, Spatially Smoothed, 3-year Avera...</td>\n",
       "      <td>NaN</td>\n",
       "      <td>NaN</td>\n",
       "      <td>Gender</td>\n",
       "      <td>Overall</td>\n",
       "      <td>Race/Ethnicity</td>\n",
       "      <td>Overall</td>\n",
       "    </tr>\n",
       "    <tr>\n",
       "      <th>2</th>\n",
       "      <td>Anchorage</td>\n",
       "      <td>County</td>\n",
       "      <td>NVSS</td>\n",
       "      <td>Cardiovascular Diseases</td>\n",
       "      <td>Heart Disease Mortality</td>\n",
       "      <td>257.9</td>\n",
       "      <td>per 100,000 population</td>\n",
       "      <td>Age-adjusted, Spatially Smoothed, 3-year Avera...</td>\n",
       "      <td>NaN</td>\n",
       "      <td>NaN</td>\n",
       "      <td>Gender</td>\n",
       "      <td>Overall</td>\n",
       "      <td>Race/Ethnicity</td>\n",
       "      <td>Overall</td>\n",
       "    </tr>\n",
       "    <tr>\n",
       "      <th>3</th>\n",
       "      <td>Bethel</td>\n",
       "      <td>County</td>\n",
       "      <td>NVSS</td>\n",
       "      <td>Cardiovascular Diseases</td>\n",
       "      <td>Heart Disease Mortality</td>\n",
       "      <td>351.6</td>\n",
       "      <td>per 100,000 population</td>\n",
       "      <td>Age-adjusted, Spatially Smoothed, 3-year Avera...</td>\n",
       "      <td>NaN</td>\n",
       "      <td>NaN</td>\n",
       "      <td>Gender</td>\n",
       "      <td>Overall</td>\n",
       "      <td>Race/Ethnicity</td>\n",
       "      <td>Overall</td>\n",
       "    </tr>\n",
       "    <tr>\n",
       "      <th>4</th>\n",
       "      <td>Bristol Bay</td>\n",
       "      <td>County</td>\n",
       "      <td>NVSS</td>\n",
       "      <td>Cardiovascular Diseases</td>\n",
       "      <td>Heart Disease Mortality</td>\n",
       "      <td>NaN</td>\n",
       "      <td>per 100,000 population</td>\n",
       "      <td>Age-adjusted, Spatially Smoothed, 3-year Avera...</td>\n",
       "      <td>~</td>\n",
       "      <td>Insufficient Data</td>\n",
       "      <td>Gender</td>\n",
       "      <td>Overall</td>\n",
       "      <td>Race/Ethnicity</td>\n",
       "      <td>Overall</td>\n",
       "    </tr>\n",
       "  </tbody>\n",
       "</table>\n",
       "</div>"
      ],
      "text/plain": [
       "            State GeographicLevel DataSource                    Class  \\\n",
       "0  Aleutians East          County       NVSS  Cardiovascular Diseases   \n",
       "1  Aleutians West          County       NVSS  Cardiovascular Diseases   \n",
       "2       Anchorage          County       NVSS  Cardiovascular Diseases   \n",
       "3          Bethel          County       NVSS  Cardiovascular Diseases   \n",
       "4     Bristol Bay          County       NVSS  Cardiovascular Diseases   \n",
       "\n",
       "                     Topic   HDM          Data_Value_Unit  \\\n",
       "0  Heart Disease Mortality  105.3  per 100,000 population   \n",
       "1  Heart Disease Mortality  211.9  per 100,000 population   \n",
       "2  Heart Disease Mortality  257.9  per 100,000 population   \n",
       "3  Heart Disease Mortality  351.6  per 100,000 population   \n",
       "4  Heart Disease Mortality    NaN  per 100,000 population   \n",
       "\n",
       "                                     Data_Value_Type  \\\n",
       "0  Age-adjusted, Spatially Smoothed, 3-year Avera...   \n",
       "1  Age-adjusted, Spatially Smoothed, 3-year Avera...   \n",
       "2  Age-adjusted, Spatially Smoothed, 3-year Avera...   \n",
       "3  Age-adjusted, Spatially Smoothed, 3-year Avera...   \n",
       "4  Age-adjusted, Spatially Smoothed, 3-year Avera...   \n",
       "\n",
       "  Data_Value_Footnote_Symbol Data_Value_Footnote StratificationCategory1  \\\n",
       "0                        NaN                 NaN                  Gender   \n",
       "1                        NaN                 NaN                  Gender   \n",
       "2                        NaN                 NaN                  Gender   \n",
       "3                        NaN                 NaN                  Gender   \n",
       "4                          ~   Insufficient Data                  Gender   \n",
       "\n",
       "    Gender  Race/Ethnicity Ethnicity  \n",
       "0  Overall  Race/Ethnicity   Overall  \n",
       "1  Overall  Race/Ethnicity   Overall  \n",
       "2  Overall  Race/Ethnicity   Overall  \n",
       "3  Overall  Race/Ethnicity   Overall  \n",
       "4  Overall  Race/Ethnicity   Overall  "
      ]
     },
     "execution_count": 5,
     "metadata": {},
     "output_type": "execute_result"
    }
   ],
   "source": [
    "# taking a first look at our raw data\n",
    "HDM = pd.read_csv(\"Heart_Disease_Mortality.csv\")\n",
    "HDM.head()"
   ]
  },
  {
   "cell_type": "code",
   "execution_count": null,
   "metadata": {},
   "outputs": [],
   "source": [
    "\n",
    "# Replace the missing values using the average values from that column. The column HDM represents Number of deaths per 100,000 population\n",
    "\n",
    "\n",
    "HDM = HDM.fillna(HDM.mean())\n",
    "HDM.head()\n"
   ]
  },
  {
   "cell_type": "code",
   "execution_count": null,
   "metadata": {},
   "outputs": [],
   "source": [
    "HDM.isnull().sum()\n"
   ]
  },
  {
   "cell_type": "code",
   "execution_count": null,
   "metadata": {},
   "outputs": [],
   "source": [
    "# Analyzing data by grouping by Gender\n",
    "HDM['Data_Value'].groupby([HDM['Stratification1']]).mean()\n"
   ]
  },
  {
   "cell_type": "markdown",
   "metadata": {},
   "source": [
    "We can see that Males have a higher mortality rate than females"
   ]
  },
  {
   "cell_type": "code",
   "execution_count": null,
   "metadata": {},
   "outputs": [],
   "source": [
    "# Analyzing data by grouping by Ethnicity\n",
    "HDM['Data_Value'].groupby([HDM['Stratification2']]).mean()\n"
   ]
  },
  {
   "cell_type": "code",
   "execution_count": null,
   "metadata": {},
   "outputs": [],
   "source": [
    "HDM_Ethnicity = HDM.pivot_table(values = 'Data_Value', index = 'Stratification2', aggfunc=np.mean, margins=True)\n",
    "HDM_Ethnicity.plot(kind='barh', title='Mean HDM by Ethnicity', legend=False)\n",
    "\n",
    "HDM_mean = HDM_Ethnicity['Data_Value'].mean()"
   ]
  },
  {
   "cell_type": "markdown",
   "metadata": {},
   "source": [
    "We can see that Blacks have the highest mortality rate at 396.9, followed by White and American Indian and Alaskan Natives.Hispanics have the lowest. "
   ]
  },
  {
   "cell_type": "code",
   "execution_count": null,
   "metadata": {},
   "outputs": [],
   "source": [
    "# Grouping the mortality data by the respective county\n",
    "HDM['Data_Value'].groupby([HDM['LocationDesc']]).mean()\n",
    "HDM_sorted = HDM.sort_values(\"Data_Value\", ascending = False)\n",
    "\n",
    "HDM_sorted.head()\n",
    "\n"
   ]
  },
  {
   "cell_type": "code",
   "execution_count": null,
   "metadata": {},
   "outputs": [],
   "source": [
    "HDM['Data_Value'].groupby([HDM['Stratification1']]).describe()\n"
   ]
  },
  {
   "cell_type": "code",
   "execution_count": null,
   "metadata": {},
   "outputs": [],
   "source": [
    "# plotting heart rate mortality data by each county\n",
    "import matplotlib.pyplot as plt\n",
    "%matplotlib inline\n",
    "by_county = HDM.groupby('LocationDesc').mean()\n",
    "by_county['Data_Value'].plot.line()\n",
    "plt.xticks(rotation=45)\n",
    "plt.show()"
   ]
  },
  {
   "cell_type": "markdown",
   "metadata": {},
   "source": [
    "Analyzing data for both genders to determine which counties have the highest and lowest death rates."
   ]
  },
  {
   "cell_type": "code",
   "execution_count": 41,
   "metadata": {},
   "outputs": [
    {
     "data": {
      "text/html": [
       "<div>\n",
       "<style scoped>\n",
       "    .dataframe tbody tr th:only-of-type {\n",
       "        vertical-align: middle;\n",
       "    }\n",
       "\n",
       "    .dataframe tbody tr th {\n",
       "        vertical-align: top;\n",
       "    }\n",
       "\n",
       "    .dataframe thead th {\n",
       "        text-align: right;\n",
       "    }\n",
       "</style>\n",
       "<table border=\"1\" class=\"dataframe\">\n",
       "  <thead>\n",
       "    <tr style=\"text-align: right;\">\n",
       "      <th></th>\n",
       "      <th>LocationDesc</th>\n",
       "      <th>Data_Value</th>\n",
       "      <th>StratificationCategory1</th>\n",
       "      <th>Stratification1</th>\n",
       "      <th>StratificationCategory2</th>\n",
       "      <th>Stratification2</th>\n",
       "    </tr>\n",
       "  </thead>\n",
       "  <tbody>\n",
       "    <tr>\n",
       "      <th>28360</th>\n",
       "      <td>Sioux County</td>\n",
       "      <td>1716.1</td>\n",
       "      <td>Gender</td>\n",
       "      <td>Male</td>\n",
       "      <td>Race/Ethnicity</td>\n",
       "      <td>American Indian and Alaskan Native</td>\n",
       "    </tr>\n",
       "    <tr>\n",
       "      <th>25033</th>\n",
       "      <td>Lauderdale County</td>\n",
       "      <td>1700.0</td>\n",
       "      <td>Gender</td>\n",
       "      <td>Male</td>\n",
       "      <td>Race/Ethnicity</td>\n",
       "      <td>American Indian and Alaskan Native</td>\n",
       "    </tr>\n",
       "    <tr>\n",
       "      <th>24999</th>\n",
       "      <td>Attala County</td>\n",
       "      <td>1544.6</td>\n",
       "      <td>Gender</td>\n",
       "      <td>Male</td>\n",
       "      <td>Race/Ethnicity</td>\n",
       "      <td>American Indian and Alaskan Native</td>\n",
       "    </tr>\n",
       "    <tr>\n",
       "      <th>28320</th>\n",
       "      <td>Adams County</td>\n",
       "      <td>1537.5</td>\n",
       "      <td>Gender</td>\n",
       "      <td>Male</td>\n",
       "      <td>Race/Ethnicity</td>\n",
       "      <td>American Indian and Alaskan Native</td>\n",
       "    </tr>\n",
       "    <tr>\n",
       "      <th>39298</th>\n",
       "      <td>Campbell County</td>\n",
       "      <td>1503.2</td>\n",
       "      <td>Gender</td>\n",
       "      <td>Male</td>\n",
       "      <td>Race/Ethnicity</td>\n",
       "      <td>American Indian and Alaskan Native</td>\n",
       "    </tr>\n",
       "  </tbody>\n",
       "</table>\n",
       "</div>"
      ],
      "text/plain": [
       "            LocationDesc  Data_Value StratificationCategory1 Stratification1  \\\n",
       "28360       Sioux County      1716.1                  Gender            Male   \n",
       "25033  Lauderdale County      1700.0                  Gender            Male   \n",
       "24999      Attala County      1544.6                  Gender            Male   \n",
       "28320       Adams County      1537.5                  Gender            Male   \n",
       "39298    Campbell County      1503.2                  Gender            Male   \n",
       "\n",
       "      StratificationCategory2                     Stratification2  \n",
       "28360          Race/Ethnicity  American Indian and Alaskan Native  \n",
       "25033          Race/Ethnicity  American Indian and Alaskan Native  \n",
       "24999          Race/Ethnicity  American Indian and Alaskan Native  \n",
       "28320          Race/Ethnicity  American Indian and Alaskan Native  \n",
       "39298          Race/Ethnicity  American Indian and Alaskan Native  "
      ]
     },
     "execution_count": 41,
     "metadata": {},
     "output_type": "execute_result"
    }
   ],
   "source": [
    "Males = HDM[HDM['Stratification1'] == 'Male']\n",
    "Males_sorted = Males.sort_values(\"Data_Value\", ascending = False)\n",
    "Males_sorted.head()\n"
   ]
  },
  {
   "cell_type": "code",
   "execution_count": 57,
   "metadata": {},
   "outputs": [
    {
     "data": {
      "text/html": [
       "<div>\n",
       "<style scoped>\n",
       "    .dataframe tbody tr th:only-of-type {\n",
       "        vertical-align: middle;\n",
       "    }\n",
       "\n",
       "    .dataframe tbody tr th {\n",
       "        vertical-align: top;\n",
       "    }\n",
       "\n",
       "    .dataframe thead th {\n",
       "        text-align: right;\n",
       "    }\n",
       "</style>\n",
       "<table border=\"1\" class=\"dataframe\">\n",
       "  <thead>\n",
       "    <tr style=\"text-align: right;\">\n",
       "      <th></th>\n",
       "      <th>LocationDesc</th>\n",
       "      <th>Data_Value</th>\n",
       "      <th>StratificationCategory1</th>\n",
       "      <th>Stratification1</th>\n",
       "      <th>StratificationCategory2</th>\n",
       "      <th>Stratification2</th>\n",
       "    </tr>\n",
       "  </thead>\n",
       "  <tbody>\n",
       "    <tr>\n",
       "      <th>53683</th>\n",
       "      <td>Pitt County</td>\n",
       "      <td>23.0</td>\n",
       "      <td>Gender</td>\n",
       "      <td>Male</td>\n",
       "      <td>Race/Ethnicity</td>\n",
       "      <td>Hispanic</td>\n",
       "    </tr>\n",
       "    <tr>\n",
       "      <th>53199</th>\n",
       "      <td>Knox County</td>\n",
       "      <td>27.4</td>\n",
       "      <td>Gender</td>\n",
       "      <td>Male</td>\n",
       "      <td>Race/Ethnicity</td>\n",
       "      <td>Asian and Pacific Islander</td>\n",
       "    </tr>\n",
       "    <tr>\n",
       "      <th>59035</th>\n",
       "      <td>Woodbury County</td>\n",
       "      <td>45.2</td>\n",
       "      <td>Gender</td>\n",
       "      <td>Male</td>\n",
       "      <td>Race/Ethnicity</td>\n",
       "      <td>Hispanic</td>\n",
       "    </tr>\n",
       "    <tr>\n",
       "      <th>21505</th>\n",
       "      <td>Carver County</td>\n",
       "      <td>49.6</td>\n",
       "      <td>Gender</td>\n",
       "      <td>Male</td>\n",
       "      <td>Race/Ethnicity</td>\n",
       "      <td>Hispanic</td>\n",
       "    </tr>\n",
       "    <tr>\n",
       "      <th>34309</th>\n",
       "      <td>Love County</td>\n",
       "      <td>50.1</td>\n",
       "      <td>Gender</td>\n",
       "      <td>Male</td>\n",
       "      <td>Race/Ethnicity</td>\n",
       "      <td>Hispanic</td>\n",
       "    </tr>\n",
       "  </tbody>\n",
       "</table>\n",
       "</div>"
      ],
      "text/plain": [
       "          LocationDesc  Data_Value StratificationCategory1 Stratification1  \\\n",
       "53683      Pitt County        23.0                  Gender            Male   \n",
       "53199      Knox County        27.4                  Gender            Male   \n",
       "59035  Woodbury County        45.2                  Gender            Male   \n",
       "21505    Carver County        49.6                  Gender            Male   \n",
       "34309      Love County        50.1                  Gender            Male   \n",
       "\n",
       "      StratificationCategory2             Stratification2  \n",
       "53683          Race/Ethnicity                    Hispanic  \n",
       "53199          Race/Ethnicity  Asian and Pacific Islander  \n",
       "59035          Race/Ethnicity                    Hispanic  \n",
       "21505          Race/Ethnicity                    Hispanic  \n",
       "34309          Race/Ethnicity                    Hispanic  "
      ]
     },
     "execution_count": 57,
     "metadata": {},
     "output_type": "execute_result"
    }
   ],
   "source": [
    "Males_sorted = Males.sort_values(\"Data_Value\")\n",
    "Males_sorted.head()"
   ]
  },
  {
   "cell_type": "code",
   "execution_count": 42,
   "metadata": {},
   "outputs": [
    {
     "data": {
      "text/html": [
       "<div>\n",
       "<style scoped>\n",
       "    .dataframe tbody tr th:only-of-type {\n",
       "        vertical-align: middle;\n",
       "    }\n",
       "\n",
       "    .dataframe tbody tr th {\n",
       "        vertical-align: top;\n",
       "    }\n",
       "\n",
       "    .dataframe thead th {\n",
       "        text-align: right;\n",
       "    }\n",
       "</style>\n",
       "<table border=\"1\" class=\"dataframe\">\n",
       "  <thead>\n",
       "    <tr style=\"text-align: right;\">\n",
       "      <th></th>\n",
       "      <th>LocationDesc</th>\n",
       "      <th>Data_Value</th>\n",
       "      <th>StratificationCategory1</th>\n",
       "      <th>Stratification1</th>\n",
       "      <th>StratificationCategory2</th>\n",
       "      <th>Stratification2</th>\n",
       "    </tr>\n",
       "  </thead>\n",
       "  <tbody>\n",
       "    <tr>\n",
       "      <th>15516</th>\n",
       "      <td>Cowley County</td>\n",
       "      <td>1592.8</td>\n",
       "      <td>Gender</td>\n",
       "      <td>Female</td>\n",
       "      <td>Race/Ethnicity</td>\n",
       "      <td>American Indian and Alaskan Native</td>\n",
       "    </tr>\n",
       "    <tr>\n",
       "      <th>25127</th>\n",
       "      <td>Neshoba County</td>\n",
       "      <td>1246.6</td>\n",
       "      <td>Gender</td>\n",
       "      <td>Female</td>\n",
       "      <td>Race/Ethnicity</td>\n",
       "      <td>American Indian and Alaskan Native</td>\n",
       "    </tr>\n",
       "    <tr>\n",
       "      <th>11851</th>\n",
       "      <td>Morgan County</td>\n",
       "      <td>986.8</td>\n",
       "      <td>Gender</td>\n",
       "      <td>Female</td>\n",
       "      <td>Race/Ethnicity</td>\n",
       "      <td>Black</td>\n",
       "    </tr>\n",
       "    <tr>\n",
       "      <th>17839</th>\n",
       "      <td>Franklin Parish</td>\n",
       "      <td>922.0</td>\n",
       "      <td>Gender</td>\n",
       "      <td>Female</td>\n",
       "      <td>Race/Ethnicity</td>\n",
       "      <td>White</td>\n",
       "    </tr>\n",
       "    <tr>\n",
       "      <th>17647</th>\n",
       "      <td>Franklin Parish</td>\n",
       "      <td>889.9</td>\n",
       "      <td>Gender</td>\n",
       "      <td>Female</td>\n",
       "      <td>Race/Ethnicity</td>\n",
       "      <td>Overall</td>\n",
       "    </tr>\n",
       "  </tbody>\n",
       "</table>\n",
       "</div>"
      ],
      "text/plain": [
       "          LocationDesc  Data_Value StratificationCategory1 Stratification1  \\\n",
       "15516    Cowley County      1592.8                  Gender          Female   \n",
       "25127   Neshoba County      1246.6                  Gender          Female   \n",
       "11851    Morgan County       986.8                  Gender          Female   \n",
       "17839  Franklin Parish       922.0                  Gender          Female   \n",
       "17647  Franklin Parish       889.9                  Gender          Female   \n",
       "\n",
       "      StratificationCategory2                     Stratification2  \n",
       "15516          Race/Ethnicity  American Indian and Alaskan Native  \n",
       "25127          Race/Ethnicity  American Indian and Alaskan Native  \n",
       "11851          Race/Ethnicity                               Black  \n",
       "17839          Race/Ethnicity                               White  \n",
       "17647          Race/Ethnicity                             Overall  "
      ]
     },
     "execution_count": 42,
     "metadata": {},
     "output_type": "execute_result"
    }
   ],
   "source": [
    "Females = HDM[HDM['Stratification1'] == 'Female']\n",
    "Females_sorted = Females.sort_values(\"Data_Value\", ascending = False)\n",
    "Females_sorted.head()"
   ]
  },
  {
   "cell_type": "code",
   "execution_count": 58,
   "metadata": {},
   "outputs": [
    {
     "data": {
      "text/html": [
       "<div>\n",
       "<style scoped>\n",
       "    .dataframe tbody tr th:only-of-type {\n",
       "        vertical-align: middle;\n",
       "    }\n",
       "\n",
       "    .dataframe tbody tr th {\n",
       "        vertical-align: top;\n",
       "    }\n",
       "\n",
       "    .dataframe thead th {\n",
       "        text-align: right;\n",
       "    }\n",
       "</style>\n",
       "<table border=\"1\" class=\"dataframe\">\n",
       "  <thead>\n",
       "    <tr style=\"text-align: right;\">\n",
       "      <th></th>\n",
       "      <th>LocationDesc</th>\n",
       "      <th>Data_Value</th>\n",
       "      <th>StratificationCategory1</th>\n",
       "      <th>Stratification1</th>\n",
       "      <th>StratificationCategory2</th>\n",
       "      <th>Stratification2</th>\n",
       "    </tr>\n",
       "  </thead>\n",
       "  <tbody>\n",
       "    <tr>\n",
       "      <th>55580</th>\n",
       "      <td>Sebastian County</td>\n",
       "      <td>6.0</td>\n",
       "      <td>Gender</td>\n",
       "      <td>Female</td>\n",
       "      <td>Race/Ethnicity</td>\n",
       "      <td>Hispanic</td>\n",
       "    </tr>\n",
       "    <tr>\n",
       "      <th>56004</th>\n",
       "      <td>Fayette County</td>\n",
       "      <td>13.2</td>\n",
       "      <td>Gender</td>\n",
       "      <td>Female</td>\n",
       "      <td>Race/Ethnicity</td>\n",
       "      <td>Asian and Pacific Islander</td>\n",
       "    </tr>\n",
       "    <tr>\n",
       "      <th>56092</th>\n",
       "      <td>Spotsylvania County</td>\n",
       "      <td>15.4</td>\n",
       "      <td>Gender</td>\n",
       "      <td>Female</td>\n",
       "      <td>Race/Ethnicity</td>\n",
       "      <td>Hispanic</td>\n",
       "    </tr>\n",
       "    <tr>\n",
       "      <th>27176</th>\n",
       "      <td>Orange County</td>\n",
       "      <td>17.0</td>\n",
       "      <td>Gender</td>\n",
       "      <td>Female</td>\n",
       "      <td>Race/Ethnicity</td>\n",
       "      <td>Hispanic</td>\n",
       "    </tr>\n",
       "    <tr>\n",
       "      <th>58386</th>\n",
       "      <td>Alamance County</td>\n",
       "      <td>17.2</td>\n",
       "      <td>Gender</td>\n",
       "      <td>Female</td>\n",
       "      <td>Race/Ethnicity</td>\n",
       "      <td>Hispanic</td>\n",
       "    </tr>\n",
       "  </tbody>\n",
       "</table>\n",
       "</div>"
      ],
      "text/plain": [
       "              LocationDesc  Data_Value StratificationCategory1  \\\n",
       "55580     Sebastian County         6.0                  Gender   \n",
       "56004       Fayette County        13.2                  Gender   \n",
       "56092  Spotsylvania County        15.4                  Gender   \n",
       "27176        Orange County        17.0                  Gender   \n",
       "58386      Alamance County        17.2                  Gender   \n",
       "\n",
       "      Stratification1 StratificationCategory2             Stratification2  \n",
       "55580          Female          Race/Ethnicity                    Hispanic  \n",
       "56004          Female          Race/Ethnicity  Asian and Pacific Islander  \n",
       "56092          Female          Race/Ethnicity                    Hispanic  \n",
       "27176          Female          Race/Ethnicity                    Hispanic  \n",
       "58386          Female          Race/Ethnicity                    Hispanic  "
      ]
     },
     "execution_count": 58,
     "metadata": {},
     "output_type": "execute_result"
    }
   ],
   "source": [
    "Females_sorted = Females.sort_values(\"Data_Value\",)\n",
    "Females_sorted.head()"
   ]
  },
  {
   "cell_type": "markdown",
   "metadata": {},
   "source": [
    "Doing some research on counties provided some interesting facts. We can see that Orange County has one of the lowest mortality rate and median household income in 2007 was $ 61,899. Even though it is one of the most populated counties of California, indiciating that there may be a correlation between household income and mortality rate.\n",
    "\n",
    "For Cowley county and Neshoba County, with one of the highest mortality rates, the median household income was found to be below $40,000, with around 20% of the population loving below the poverty line. "
   ]
  },
  {
   "cell_type": "code",
   "execution_count": 56,
   "metadata": {},
   "outputs": [
    {
     "data": {
      "image/png": "[encoded data removed]",
      "text/plain": [
       "<Figure size 792x252 with 2 Axes>"
      ]
     },
     "metadata": {
      "needs_background": "light"
     },
     "output_type": "display_data"
    }
   ],
   "source": [
    "plt.figure(figsize=(11,3.5))\n",
    "plt.subplot(1, 2, 1)\n",
    "by_county = Females.groupby('LocationDesc').mean()\n",
    "by_county['Data_Value'].plot.line()\n",
    "plt.xticks(rotation=45)\n",
    "plt.title('Mortality Data for Females')\n",
    "\n",
    "\n",
    "plt.subplot(1, 2, 2)\n",
    "by_county = Males.groupby('LocationDesc').mean()\n",
    "by_county['Data_Value'].plot.line()\n",
    "plt.xticks(rotation=45)\n",
    "\n",
    "plt.title('Mortality Data for Males')\n",
    "\n",
    "plt.show()"
   ]
  },
  {
   "cell_type": "code",
   "execution_count": 47,
   "metadata": {},
   "outputs": [
    {
     "data": {
      "image/png": "[encoded data removed]",
      "text/plain": [
       "<Figure size 432x288 with 1 Axes>"
      ]
     },
     "metadata": {
      "needs_background": "light"
     },
     "output_type": "display_data"
    }
   ],
   "source": []
  },
  {
   "cell_type": "code",
   "execution_count": null,
   "metadata": {},
   "outputs": [],
   "source": []
  }
 ],
 "metadata": {
  "kernelspec": {
   "display_name": "Python 3",
   "language": "python",
   "name": "python3"
  },
  "language_info": {
   "codemirror_mode": {
    "name": "ipython",
    "version": 3
   },
   "file_extension": ".py",
   "mimetype": "text/x-python",
   "name": "python",
   "nbconvert_exporter": "python",
   "pygments_lexer": "ipython3",
   "version": "3.8.3"
  }
 },
 "nbformat": 4,
 "nbformat_minor": 4
}
