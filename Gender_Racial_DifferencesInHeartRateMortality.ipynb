{
 "cells": [
  {
   "cell_type": "markdown",
   "metadata": {},
   "source": [
    "Highlights\n",
    "\n",
    "Cardiovascular disease (CVD) is one of the leading causes of death worldwide. Although the incidence of CVD in women is usually lower than in men, women have a higher mortality and worse prognosis after acute cardiovascular events. These gender differences exist in various CVDs, including coronary heart disease, stroke, heart failure and aortic diseases. These gender differences have caused widespread concerns and the consideration of gender differences is of great importance for the prevention, diagnosis, treatment and management of CVD. In patients with heart disease, mortality is lower in women versus men. However, it is unknown whether the survival advantage in women compared with men is present across different races.\n",
    "\n",
    "The purpose of this project is to analyze heart rate mortality data for different counties across the US for the year 2014. \n",
    "Mortality is defined here as the number of deaths per 100,000 population.\n",
    "We will explore variations according to: \n",
    "\n",
    "1. Gender (Male or Female)\n",
    "2. Ethnicity (White, Hispanic, Black, Asian)\n",
    "\n",
    "This analysis can assist in :\n",
    "\n",
    "• Analyzing gender and racial differences in determination of the cardiovascular risk profile in order to develop personalized management plans for Heart Disease\n",
    "\n",
    "• Clarify women-specific risk factors for cardiovascular disease and to provide a better understanding of Heart Disease in Females"
   ]
  },
  {
   "cell_type": "code",
   "execution_count": 82,
   "metadata": {},
   "outputs": [],
   "source": [
    "import pandas as pd\n",
    "import numpy as np\n",
    "\n"
   ]
  },
  {
   "cell_type": "code",
   "execution_count": 83,
   "metadata": {},
   "outputs": [
    {
     "data": {
      "text/plain": [
       "True"
      ]
     },
     "execution_count": 83,
     "metadata": {},
     "output_type": "execute_result"
    }
   ],
   "source": [
    "import os\n",
    "os.path.isfile('/Users/Diwan/Heart_Disease_Mortality.csv')"
   ]
  },
  {
   "cell_type": "code",
   "execution_count": 84,
   "metadata": {},
   "outputs": [
    {
     "data": {
      "text/plain": [
       "'C:\\\\Users\\\\Diwan'"
      ]
     },
     "execution_count": 84,
     "metadata": {},
     "output_type": "execute_result"
    }
   ],
   "source": [
    "os.getcwd()\n"
   ]
  },
  {
   "cell_type": "code",
   "execution_count": 85,
   "metadata": {},
   "outputs": [],
   "source": [
    "os.chdir('C:\\\\Users\\\\Diwan')"
   ]
  },
  {
   "cell_type": "code",
   "execution_count": 86,
   "metadata": {},
   "outputs": [
    {
     "data": {
      "text/html": [
       "<div>\n",
       "<style scoped>\n",
       "    .dataframe tbody tr th:only-of-type {\n",
       "        vertical-align: middle;\n",
       "    }\n",
       "\n",
       "    .dataframe tbody tr th {\n",
       "        vertical-align: top;\n",
       "    }\n",
       "\n",
       "    .dataframe thead th {\n",
       "        text-align: right;\n",
       "    }\n",
       "</style>\n",
       "<table border=\"1\" class=\"dataframe\">\n",
       "  <thead>\n",
       "    <tr style=\"text-align: right;\">\n",
       "      <th></th>\n",
       "      <th>Year</th>\n",
       "      <th>LocationAbbr</th>\n",
       "      <th>LocationDesc</th>\n",
       "      <th>GeographicLevel</th>\n",
       "      <th>DataSource</th>\n",
       "      <th>Class</th>\n",
       "      <th>Topic</th>\n",
       "      <th>Data_Value</th>\n",
       "      <th>Data_Value_Unit</th>\n",
       "      <th>Data_Value_Type</th>\n",
       "      <th>Data_Value_Footnote_Symbol</th>\n",
       "      <th>Data_Value_Footnote</th>\n",
       "      <th>StratificationCategory1</th>\n",
       "      <th>Stratification1</th>\n",
       "      <th>StratificationCategory2</th>\n",
       "      <th>Stratification2</th>\n",
       "      <th>TopicID</th>\n",
       "      <th>LocationID</th>\n",
       "      <th>Location 1</th>\n",
       "    </tr>\n",
       "  </thead>\n",
       "  <tbody>\n",
       "    <tr>\n",
       "      <th>0</th>\n",
       "      <td>2014</td>\n",
       "      <td>AK</td>\n",
       "      <td>Aleutians East</td>\n",
       "      <td>County</td>\n",
       "      <td>NVSS</td>\n",
       "      <td>Cardiovascular Diseases</td>\n",
       "      <td>Heart Disease Mortality</td>\n",
       "      <td>105.3</td>\n",
       "      <td>per 100,000 population</td>\n",
       "      <td>Age-adjusted, Spatially Smoothed, 3-year Avera...</td>\n",
       "      <td>NaN</td>\n",
       "      <td>NaN</td>\n",
       "      <td>Gender</td>\n",
       "      <td>Overall</td>\n",
       "      <td>Race/Ethnicity</td>\n",
       "      <td>Overall</td>\n",
       "      <td>T2</td>\n",
       "      <td>2013</td>\n",
       "      <td>(55.440626, -161.962562)</td>\n",
       "    </tr>\n",
       "    <tr>\n",
       "      <th>1</th>\n",
       "      <td>2014</td>\n",
       "      <td>AK</td>\n",
       "      <td>Aleutians West</td>\n",
       "      <td>County</td>\n",
       "      <td>NVSS</td>\n",
       "      <td>Cardiovascular Diseases</td>\n",
       "      <td>Heart Disease Mortality</td>\n",
       "      <td>211.9</td>\n",
       "      <td>per 100,000 population</td>\n",
       "      <td>Age-adjusted, Spatially Smoothed, 3-year Avera...</td>\n",
       "      <td>NaN</td>\n",
       "      <td>NaN</td>\n",
       "      <td>Gender</td>\n",
       "      <td>Overall</td>\n",
       "      <td>Race/Ethnicity</td>\n",
       "      <td>Overall</td>\n",
       "      <td>T2</td>\n",
       "      <td>2016</td>\n",
       "      <td>(52.995403, -170.251538)</td>\n",
       "    </tr>\n",
       "    <tr>\n",
       "      <th>2</th>\n",
       "      <td>2014</td>\n",
       "      <td>AK</td>\n",
       "      <td>Anchorage</td>\n",
       "      <td>County</td>\n",
       "      <td>NVSS</td>\n",
       "      <td>Cardiovascular Diseases</td>\n",
       "      <td>Heart Disease Mortality</td>\n",
       "      <td>257.9</td>\n",
       "      <td>per 100,000 population</td>\n",
       "      <td>Age-adjusted, Spatially Smoothed, 3-year Avera...</td>\n",
       "      <td>NaN</td>\n",
       "      <td>NaN</td>\n",
       "      <td>Gender</td>\n",
       "      <td>Overall</td>\n",
       "      <td>Race/Ethnicity</td>\n",
       "      <td>Overall</td>\n",
       "      <td>T2</td>\n",
       "      <td>2020</td>\n",
       "      <td>(61.159049, -149.103905)</td>\n",
       "    </tr>\n",
       "    <tr>\n",
       "      <th>3</th>\n",
       "      <td>2014</td>\n",
       "      <td>AK</td>\n",
       "      <td>Bethel</td>\n",
       "      <td>County</td>\n",
       "      <td>NVSS</td>\n",
       "      <td>Cardiovascular Diseases</td>\n",
       "      <td>Heart Disease Mortality</td>\n",
       "      <td>351.6</td>\n",
       "      <td>per 100,000 population</td>\n",
       "      <td>Age-adjusted, Spatially Smoothed, 3-year Avera...</td>\n",
       "      <td>NaN</td>\n",
       "      <td>NaN</td>\n",
       "      <td>Gender</td>\n",
       "      <td>Overall</td>\n",
       "      <td>Race/Ethnicity</td>\n",
       "      <td>Overall</td>\n",
       "      <td>T2</td>\n",
       "      <td>2050</td>\n",
       "      <td>(60.924483, -159.749655)</td>\n",
       "    </tr>\n",
       "    <tr>\n",
       "      <th>4</th>\n",
       "      <td>2014</td>\n",
       "      <td>AK</td>\n",
       "      <td>Bristol Bay</td>\n",
       "      <td>County</td>\n",
       "      <td>NVSS</td>\n",
       "      <td>Cardiovascular Diseases</td>\n",
       "      <td>Heart Disease Mortality</td>\n",
       "      <td>NaN</td>\n",
       "      <td>per 100,000 population</td>\n",
       "      <td>Age-adjusted, Spatially Smoothed, 3-year Avera...</td>\n",
       "      <td>~</td>\n",
       "      <td>Insufficient Data</td>\n",
       "      <td>Gender</td>\n",
       "      <td>Overall</td>\n",
       "      <td>Race/Ethnicity</td>\n",
       "      <td>Overall</td>\n",
       "      <td>T2</td>\n",
       "      <td>2060</td>\n",
       "      <td>(58.754192, -156.694709)</td>\n",
       "    </tr>\n",
       "  </tbody>\n",
       "</table>\n",
       "</div>"
      ],
      "text/plain": [
       "   Year LocationAbbr    LocationDesc GeographicLevel DataSource  \\\n",
       "0  2014           AK  Aleutians East          County       NVSS   \n",
       "1  2014           AK  Aleutians West          County       NVSS   \n",
       "2  2014           AK       Anchorage          County       NVSS   \n",
       "3  2014           AK          Bethel          County       NVSS   \n",
       "4  2014           AK     Bristol Bay          County       NVSS   \n",
       "\n",
       "                     Class                    Topic  Data_Value  \\\n",
       "0  Cardiovascular Diseases  Heart Disease Mortality       105.3   \n",
       "1  Cardiovascular Diseases  Heart Disease Mortality       211.9   \n",
       "2  Cardiovascular Diseases  Heart Disease Mortality       257.9   \n",
       "3  Cardiovascular Diseases  Heart Disease Mortality       351.6   \n",
       "4  Cardiovascular Diseases  Heart Disease Mortality         NaN   \n",
       "\n",
       "          Data_Value_Unit                                    Data_Value_Type  \\\n",
       "0  per 100,000 population  Age-adjusted, Spatially Smoothed, 3-year Avera...   \n",
       "1  per 100,000 population  Age-adjusted, Spatially Smoothed, 3-year Avera...   \n",
       "2  per 100,000 population  Age-adjusted, Spatially Smoothed, 3-year Avera...   \n",
       "3  per 100,000 population  Age-adjusted, Spatially Smoothed, 3-year Avera...   \n",
       "4  per 100,000 population  Age-adjusted, Spatially Smoothed, 3-year Avera...   \n",
       "\n",
       "  Data_Value_Footnote_Symbol Data_Value_Footnote StratificationCategory1  \\\n",
       "0                        NaN                 NaN                  Gender   \n",
       "1                        NaN                 NaN                  Gender   \n",
       "2                        NaN                 NaN                  Gender   \n",
       "3                        NaN                 NaN                  Gender   \n",
       "4                          ~   Insufficient Data                  Gender   \n",
       "\n",
       "  Stratification1 StratificationCategory2 Stratification2 TopicID  LocationID  \\\n",
       "0         Overall          Race/Ethnicity         Overall      T2        2013   \n",
       "1         Overall          Race/Ethnicity         Overall      T2        2016   \n",
       "2         Overall          Race/Ethnicity         Overall      T2        2020   \n",
       "3         Overall          Race/Ethnicity         Overall      T2        2050   \n",
       "4         Overall          Race/Ethnicity         Overall      T2        2060   \n",
       "\n",
       "                 Location 1  \n",
       "0  (55.440626, -161.962562)  \n",
       "1  (52.995403, -170.251538)  \n",
       "2  (61.159049, -149.103905)  \n",
       "3  (60.924483, -159.749655)  \n",
       "4  (58.754192, -156.694709)  "
      ]
     },
     "execution_count": 86,
     "metadata": {},
     "output_type": "execute_result"
    }
   ],
   "source": [
    "HDM = pd.read_csv(\"Heart_Disease_Mortality.csv\")\n",
    "HDM.head()"
   ]
  },
  {
   "cell_type": "code",
   "execution_count": 110,
   "metadata": {},
   "outputs": [],
   "source": [
    "# Selecting only the columns we need\n",
    "\n",
    "cols = ['LocationDesc', 'Data_Value', 'StratificationCategory1', 'Stratification1', 'StratificationCategory2','Stratification2'  ]\n",
    "HDM = HDM[cols]\n",
    "HDM = HDM[((HDM.Stratification2 != 'Overall') & (HDM.Stratification1 != 'Overall'))]\n"
   ]
  },
  {
   "cell_type": "code",
   "execution_count": 111,
   "metadata": {},
   "outputs": [
    {
     "data": {
      "text/html": [
       "<div>\n",
       "<style scoped>\n",
       "    .dataframe tbody tr th:only-of-type {\n",
       "        vertical-align: middle;\n",
       "    }\n",
       "\n",
       "    .dataframe tbody tr th {\n",
       "        vertical-align: top;\n",
       "    }\n",
       "\n",
       "    .dataframe thead th {\n",
       "        text-align: right;\n",
       "    }\n",
       "</style>\n",
       "<table border=\"1\" class=\"dataframe\">\n",
       "  <thead>\n",
       "    <tr style=\"text-align: right;\">\n",
       "      <th></th>\n",
       "      <th>LocationDesc</th>\n",
       "      <th>Data_Value</th>\n",
       "      <th>StratificationCategory1</th>\n",
       "      <th>Stratification1</th>\n",
       "      <th>StratificationCategory2</th>\n",
       "      <th>Stratification2</th>\n",
       "    </tr>\n",
       "  </thead>\n",
       "  <tbody>\n",
       "    <tr>\n",
       "      <th>101</th>\n",
       "      <td>Aleutians West</td>\n",
       "      <td>349.306775</td>\n",
       "      <td>Gender</td>\n",
       "      <td>Male</td>\n",
       "      <td>Race/Ethnicity</td>\n",
       "      <td>White</td>\n",
       "    </tr>\n",
       "    <tr>\n",
       "      <th>102</th>\n",
       "      <td>Anchorage</td>\n",
       "      <td>317.500000</td>\n",
       "      <td>Gender</td>\n",
       "      <td>Male</td>\n",
       "      <td>Race/Ethnicity</td>\n",
       "      <td>White</td>\n",
       "    </tr>\n",
       "    <tr>\n",
       "      <th>103</th>\n",
       "      <td>Bethel</td>\n",
       "      <td>349.306775</td>\n",
       "      <td>Gender</td>\n",
       "      <td>Male</td>\n",
       "      <td>Race/Ethnicity</td>\n",
       "      <td>White</td>\n",
       "    </tr>\n",
       "    <tr>\n",
       "      <th>104</th>\n",
       "      <td>Bristol Bay</td>\n",
       "      <td>349.306775</td>\n",
       "      <td>Gender</td>\n",
       "      <td>Male</td>\n",
       "      <td>Race/Ethnicity</td>\n",
       "      <td>White</td>\n",
       "    </tr>\n",
       "    <tr>\n",
       "      <th>105</th>\n",
       "      <td>Denali</td>\n",
       "      <td>400.700000</td>\n",
       "      <td>Gender</td>\n",
       "      <td>Male</td>\n",
       "      <td>Race/Ethnicity</td>\n",
       "      <td>White</td>\n",
       "    </tr>\n",
       "  </tbody>\n",
       "</table>\n",
       "</div>"
      ],
      "text/plain": [
       "       LocationDesc  Data_Value StratificationCategory1 Stratification1  \\\n",
       "101  Aleutians West  349.306775                  Gender            Male   \n",
       "102       Anchorage  317.500000                  Gender            Male   \n",
       "103          Bethel  349.306775                  Gender            Male   \n",
       "104     Bristol Bay  349.306775                  Gender            Male   \n",
       "105          Denali  400.700000                  Gender            Male   \n",
       "\n",
       "    StratificationCategory2 Stratification2  \n",
       "101          Race/Ethnicity           White  \n",
       "102          Race/Ethnicity           White  \n",
       "103          Race/Ethnicity           White  \n",
       "104          Race/Ethnicity           White  \n",
       "105          Race/Ethnicity           White  "
      ]
     },
     "execution_count": 111,
     "metadata": {},
     "output_type": "execute_result"
    }
   ],
   "source": [
    "HDM.head()"
   ]
  },
  {
   "cell_type": "code",
   "execution_count": 112,
   "metadata": {},
   "outputs": [],
   "source": [
    "# Replace the missing values using the average values from that column.\n",
    "\n",
    "HDM = HDM.fillna(HDM.mean())\n"
   ]
  },
  {
   "cell_type": "code",
   "execution_count": 113,
   "metadata": {},
   "outputs": [
    {
     "data": {
      "text/html": [
       "<div>\n",
       "<style scoped>\n",
       "    .dataframe tbody tr th:only-of-type {\n",
       "        vertical-align: middle;\n",
       "    }\n",
       "\n",
       "    .dataframe tbody tr th {\n",
       "        vertical-align: top;\n",
       "    }\n",
       "\n",
       "    .dataframe thead th {\n",
       "        text-align: right;\n",
       "    }\n",
       "</style>\n",
       "<table border=\"1\" class=\"dataframe\">\n",
       "  <thead>\n",
       "    <tr style=\"text-align: right;\">\n",
       "      <th></th>\n",
       "      <th>LocationDesc</th>\n",
       "      <th>Data_Value</th>\n",
       "      <th>StratificationCategory1</th>\n",
       "      <th>Stratification1</th>\n",
       "      <th>StratificationCategory2</th>\n",
       "      <th>Stratification2</th>\n",
       "    </tr>\n",
       "  </thead>\n",
       "  <tbody>\n",
       "    <tr>\n",
       "      <th>101</th>\n",
       "      <td>Aleutians West</td>\n",
       "      <td>349.306775</td>\n",
       "      <td>Gender</td>\n",
       "      <td>Male</td>\n",
       "      <td>Race/Ethnicity</td>\n",
       "      <td>White</td>\n",
       "    </tr>\n",
       "    <tr>\n",
       "      <th>102</th>\n",
       "      <td>Anchorage</td>\n",
       "      <td>317.500000</td>\n",
       "      <td>Gender</td>\n",
       "      <td>Male</td>\n",
       "      <td>Race/Ethnicity</td>\n",
       "      <td>White</td>\n",
       "    </tr>\n",
       "    <tr>\n",
       "      <th>103</th>\n",
       "      <td>Bethel</td>\n",
       "      <td>349.306775</td>\n",
       "      <td>Gender</td>\n",
       "      <td>Male</td>\n",
       "      <td>Race/Ethnicity</td>\n",
       "      <td>White</td>\n",
       "    </tr>\n",
       "    <tr>\n",
       "      <th>104</th>\n",
       "      <td>Bristol Bay</td>\n",
       "      <td>349.306775</td>\n",
       "      <td>Gender</td>\n",
       "      <td>Male</td>\n",
       "      <td>Race/Ethnicity</td>\n",
       "      <td>White</td>\n",
       "    </tr>\n",
       "    <tr>\n",
       "      <th>105</th>\n",
       "      <td>Denali</td>\n",
       "      <td>400.700000</td>\n",
       "      <td>Gender</td>\n",
       "      <td>Male</td>\n",
       "      <td>Race/Ethnicity</td>\n",
       "      <td>White</td>\n",
       "    </tr>\n",
       "  </tbody>\n",
       "</table>\n",
       "</div>"
      ],
      "text/plain": [
       "       LocationDesc  Data_Value StratificationCategory1 Stratification1  \\\n",
       "101  Aleutians West  349.306775                  Gender            Male   \n",
       "102       Anchorage  317.500000                  Gender            Male   \n",
       "103          Bethel  349.306775                  Gender            Male   \n",
       "104     Bristol Bay  349.306775                  Gender            Male   \n",
       "105          Denali  400.700000                  Gender            Male   \n",
       "\n",
       "    StratificationCategory2 Stratification2  \n",
       "101          Race/Ethnicity           White  \n",
       "102          Race/Ethnicity           White  \n",
       "103          Race/Ethnicity           White  \n",
       "104          Race/Ethnicity           White  \n",
       "105          Race/Ethnicity           White  "
      ]
     },
     "execution_count": 113,
     "metadata": {},
     "output_type": "execute_result"
    }
   ],
   "source": [
    "HDM.head()"
   ]
  },
  {
   "cell_type": "code",
   "execution_count": 114,
   "metadata": {},
   "outputs": [
    {
     "data": {
      "text/plain": [
       "LocationDesc               0\n",
       "Data_Value                 0\n",
       "StratificationCategory1    0\n",
       "Stratification1            0\n",
       "StratificationCategory2    0\n",
       "Stratification2            0\n",
       "dtype: int64"
      ]
     },
     "execution_count": 114,
     "metadata": {},
     "output_type": "execute_result"
    }
   ],
   "source": [
    "HDM.isnull().sum()\n"
   ]
  },
  {
   "cell_type": "code",
   "execution_count": 115,
   "metadata": {},
   "outputs": [
    {
     "data": {
      "text/plain": [
       "Stratification1\n",
       "Female    318.252853\n",
       "Male      382.527610\n",
       "Name: Data_Value, dtype: float64"
      ]
     },
     "execution_count": 115,
     "metadata": {},
     "output_type": "execute_result"
    }
   ],
   "source": [
    "HDM['Data_Value'].groupby([HDM['Stratification1']]).mean()\n"
   ]
  },
  {
   "cell_type": "code",
   "execution_count": 116,
   "metadata": {},
   "outputs": [
    {
     "data": {
      "text/plain": [
       "Stratification2\n",
       "American Indian and Alaskan Native    360.544368\n",
       "Asian and Pacific Islander            317.609253\n",
       "Black                                 398.502918\n",
       "Hispanic                              306.780209\n",
       "White                                 368.514411\n",
       "Name: Data_Value, dtype: float64"
      ]
     },
     "execution_count": 116,
     "metadata": {},
     "output_type": "execute_result"
    }
   ],
   "source": [
    "HDM['Data_Value'].groupby([HDM['Stratification2']]).mean()\n"
   ]
  },
  {
   "cell_type": "code",
   "execution_count": 117,
   "metadata": {},
   "outputs": [
    {
     "data": {
      "text/plain": [
       "LocationDesc\n",
       "Abbeville County    331.373387\n",
       "Acadia Parish       421.064065\n",
       "Accomack County     392.484065\n",
       "Ada County          262.882710\n",
       "Adair County        373.336734\n",
       "                       ...    \n",
       "Yukon-Koyukuk       348.164065\n",
       "Yuma County         291.542710\n",
       "Zapata County       336.464742\n",
       "Zavala County       361.644065\n",
       "Ziebach County      376.074065\n",
       "Name: Data_Value, Length: 2015, dtype: float64"
      ]
     },
     "execution_count": 117,
     "metadata": {},
     "output_type": "execute_result"
    }
   ],
   "source": [
    "HDM['Data_Value'].groupby([HDM['LocationDesc']]).mean()\n"
   ]
  },
  {
   "cell_type": "code",
   "execution_count": 118,
   "metadata": {},
   "outputs": [
    {
     "data": {
      "text/html": [
       "<div>\n",
       "<style scoped>\n",
       "    .dataframe tbody tr th:only-of-type {\n",
       "        vertical-align: middle;\n",
       "    }\n",
       "\n",
       "    .dataframe tbody tr th {\n",
       "        vertical-align: top;\n",
       "    }\n",
       "\n",
       "    .dataframe thead th {\n",
       "        text-align: right;\n",
       "    }\n",
       "</style>\n",
       "<table border=\"1\" class=\"dataframe\">\n",
       "  <thead>\n",
       "    <tr style=\"text-align: right;\">\n",
       "      <th></th>\n",
       "      <th>count</th>\n",
       "      <th>mean</th>\n",
       "      <th>std</th>\n",
       "      <th>min</th>\n",
       "      <th>25%</th>\n",
       "      <th>50%</th>\n",
       "      <th>75%</th>\n",
       "      <th>max</th>\n",
       "    </tr>\n",
       "    <tr>\n",
       "      <th>Stratification1</th>\n",
       "      <th></th>\n",
       "      <th></th>\n",
       "      <th></th>\n",
       "      <th></th>\n",
       "      <th></th>\n",
       "      <th></th>\n",
       "      <th></th>\n",
       "      <th></th>\n",
       "    </tr>\n",
       "  </thead>\n",
       "  <tbody>\n",
       "    <tr>\n",
       "      <th>Female</th>\n",
       "      <td>16410.0</td>\n",
       "      <td>318.252853</td>\n",
       "      <td>77.639323</td>\n",
       "      <td>6.0</td>\n",
       "      <td>295.325000</td>\n",
       "      <td>349.306775</td>\n",
       "      <td>349.306775</td>\n",
       "      <td>1592.8</td>\n",
       "    </tr>\n",
       "    <tr>\n",
       "      <th>Male</th>\n",
       "      <td>16410.0</td>\n",
       "      <td>382.527610</td>\n",
       "      <td>115.959113</td>\n",
       "      <td>23.0</td>\n",
       "      <td>349.306775</td>\n",
       "      <td>349.306775</td>\n",
       "      <td>400.600000</td>\n",
       "      <td>1716.1</td>\n",
       "    </tr>\n",
       "  </tbody>\n",
       "</table>\n",
       "</div>"
      ],
      "text/plain": [
       "                   count        mean         std   min         25%  \\\n",
       "Stratification1                                                      \n",
       "Female           16410.0  318.252853   77.639323   6.0  295.325000   \n",
       "Male             16410.0  382.527610  115.959113  23.0  349.306775   \n",
       "\n",
       "                        50%         75%     max  \n",
       "Stratification1                                  \n",
       "Female           349.306775  349.306775  1592.8  \n",
       "Male             349.306775  400.600000  1716.1  "
      ]
     },
     "execution_count": 118,
     "metadata": {},
     "output_type": "execute_result"
    }
   ],
   "source": [
    "HDM['Data_Value'].groupby([HDM['Stratification1']]).describe()\n"
   ]
  },
  {
   "cell_type": "code",
   "execution_count": 119,
   "metadata": {},
   "outputs": [
    {
     "data": {
      "text/html": [
       "<div>\n",
       "<style scoped>\n",
       "    .dataframe tbody tr th:only-of-type {\n",
       "        vertical-align: middle;\n",
       "    }\n",
       "\n",
       "    .dataframe tbody tr th {\n",
       "        vertical-align: top;\n",
       "    }\n",
       "\n",
       "    .dataframe thead th {\n",
       "        text-align: right;\n",
       "    }\n",
       "</style>\n",
       "<table border=\"1\" class=\"dataframe\">\n",
       "  <thead>\n",
       "    <tr style=\"text-align: right;\">\n",
       "      <th></th>\n",
       "      <th>LocationDesc</th>\n",
       "      <th>Data_Value</th>\n",
       "      <th>StratificationCategory1</th>\n",
       "      <th>Stratification1</th>\n",
       "      <th>StratificationCategory2</th>\n",
       "      <th>Stratification2</th>\n",
       "    </tr>\n",
       "  </thead>\n",
       "  <tbody>\n",
       "    <tr>\n",
       "      <th>28360</th>\n",
       "      <td>Sioux County</td>\n",
       "      <td>1716.1</td>\n",
       "      <td>Gender</td>\n",
       "      <td>Male</td>\n",
       "      <td>Race/Ethnicity</td>\n",
       "      <td>American Indian and Alaskan Native</td>\n",
       "    </tr>\n",
       "    <tr>\n",
       "      <th>25033</th>\n",
       "      <td>Lauderdale County</td>\n",
       "      <td>1700.0</td>\n",
       "      <td>Gender</td>\n",
       "      <td>Male</td>\n",
       "      <td>Race/Ethnicity</td>\n",
       "      <td>American Indian and Alaskan Native</td>\n",
       "    </tr>\n",
       "    <tr>\n",
       "      <th>24999</th>\n",
       "      <td>Attala County</td>\n",
       "      <td>1544.6</td>\n",
       "      <td>Gender</td>\n",
       "      <td>Male</td>\n",
       "      <td>Race/Ethnicity</td>\n",
       "      <td>American Indian and Alaskan Native</td>\n",
       "    </tr>\n",
       "    <tr>\n",
       "      <th>28320</th>\n",
       "      <td>Adams County</td>\n",
       "      <td>1537.5</td>\n",
       "      <td>Gender</td>\n",
       "      <td>Male</td>\n",
       "      <td>Race/Ethnicity</td>\n",
       "      <td>American Indian and Alaskan Native</td>\n",
       "    </tr>\n",
       "    <tr>\n",
       "      <th>39298</th>\n",
       "      <td>Campbell County</td>\n",
       "      <td>1503.2</td>\n",
       "      <td>Gender</td>\n",
       "      <td>Male</td>\n",
       "      <td>Race/Ethnicity</td>\n",
       "      <td>American Indian and Alaskan Native</td>\n",
       "    </tr>\n",
       "  </tbody>\n",
       "</table>\n",
       "</div>"
      ],
      "text/plain": [
       "            LocationDesc  Data_Value StratificationCategory1 Stratification1  \\\n",
       "28360       Sioux County      1716.1                  Gender            Male   \n",
       "25033  Lauderdale County      1700.0                  Gender            Male   \n",
       "24999      Attala County      1544.6                  Gender            Male   \n",
       "28320       Adams County      1537.5                  Gender            Male   \n",
       "39298    Campbell County      1503.2                  Gender            Male   \n",
       "\n",
       "      StratificationCategory2                     Stratification2  \n",
       "28360          Race/Ethnicity  American Indian and Alaskan Native  \n",
       "25033          Race/Ethnicity  American Indian and Alaskan Native  \n",
       "24999          Race/Ethnicity  American Indian and Alaskan Native  \n",
       "28320          Race/Ethnicity  American Indian and Alaskan Native  \n",
       "39298          Race/Ethnicity  American Indian and Alaskan Native  "
      ]
     },
     "execution_count": 119,
     "metadata": {},
     "output_type": "execute_result"
    }
   ],
   "source": [
    "#sorting the male data from highest number of deaths to lowest\n",
    "Males = HDM[HDM['Stratification1'] == 'Male']\n",
    "Males_sorted = Males.sort_values(\"Data_Value\", ascending = False)\n",
    "Males_sorted.head()"
   ]
  },
  {
   "cell_type": "code",
   "execution_count": 120,
   "metadata": {},
   "outputs": [
    {
     "data": {
      "text/html": [
       "<div>\n",
       "<style scoped>\n",
       "    .dataframe tbody tr th:only-of-type {\n",
       "        vertical-align: middle;\n",
       "    }\n",
       "\n",
       "    .dataframe tbody tr th {\n",
       "        vertical-align: top;\n",
       "    }\n",
       "\n",
       "    .dataframe thead th {\n",
       "        text-align: right;\n",
       "    }\n",
       "</style>\n",
       "<table border=\"1\" class=\"dataframe\">\n",
       "  <thead>\n",
       "    <tr style=\"text-align: right;\">\n",
       "      <th></th>\n",
       "      <th>LocationDesc</th>\n",
       "      <th>Data_Value</th>\n",
       "      <th>StratificationCategory1</th>\n",
       "      <th>Stratification1</th>\n",
       "      <th>StratificationCategory2</th>\n",
       "      <th>Stratification2</th>\n",
       "    </tr>\n",
       "  </thead>\n",
       "  <tbody>\n",
       "    <tr>\n",
       "      <th>53683</th>\n",
       "      <td>Pitt County</td>\n",
       "      <td>23.0</td>\n",
       "      <td>Gender</td>\n",
       "      <td>Male</td>\n",
       "      <td>Race/Ethnicity</td>\n",
       "      <td>Hispanic</td>\n",
       "    </tr>\n",
       "    <tr>\n",
       "      <th>53199</th>\n",
       "      <td>Knox County</td>\n",
       "      <td>27.4</td>\n",
       "      <td>Gender</td>\n",
       "      <td>Male</td>\n",
       "      <td>Race/Ethnicity</td>\n",
       "      <td>Asian and Pacific Islander</td>\n",
       "    </tr>\n",
       "    <tr>\n",
       "      <th>59035</th>\n",
       "      <td>Woodbury County</td>\n",
       "      <td>45.2</td>\n",
       "      <td>Gender</td>\n",
       "      <td>Male</td>\n",
       "      <td>Race/Ethnicity</td>\n",
       "      <td>Hispanic</td>\n",
       "    </tr>\n",
       "    <tr>\n",
       "      <th>21505</th>\n",
       "      <td>Carver County</td>\n",
       "      <td>49.6</td>\n",
       "      <td>Gender</td>\n",
       "      <td>Male</td>\n",
       "      <td>Race/Ethnicity</td>\n",
       "      <td>Hispanic</td>\n",
       "    </tr>\n",
       "    <tr>\n",
       "      <th>34309</th>\n",
       "      <td>Love County</td>\n",
       "      <td>50.1</td>\n",
       "      <td>Gender</td>\n",
       "      <td>Male</td>\n",
       "      <td>Race/Ethnicity</td>\n",
       "      <td>Hispanic</td>\n",
       "    </tr>\n",
       "  </tbody>\n",
       "</table>\n",
       "</div>"
      ],
      "text/plain": [
       "          LocationDesc  Data_Value StratificationCategory1 Stratification1  \\\n",
       "53683      Pitt County        23.0                  Gender            Male   \n",
       "53199      Knox County        27.4                  Gender            Male   \n",
       "59035  Woodbury County        45.2                  Gender            Male   \n",
       "21505    Carver County        49.6                  Gender            Male   \n",
       "34309      Love County        50.1                  Gender            Male   \n",
       "\n",
       "      StratificationCategory2             Stratification2  \n",
       "53683          Race/Ethnicity                    Hispanic  \n",
       "53199          Race/Ethnicity  Asian and Pacific Islander  \n",
       "59035          Race/Ethnicity                    Hispanic  \n",
       "21505          Race/Ethnicity                    Hispanic  \n",
       "34309          Race/Ethnicity                    Hispanic  "
      ]
     },
     "execution_count": 120,
     "metadata": {},
     "output_type": "execute_result"
    }
   ],
   "source": [
    "#sorting the male data from lowest number of deaths to highest\n",
    "Males_sorted = Males.sort_values(\"Data_Value\")\n",
    "Males_sorted.head()"
   ]
  },
  {
   "cell_type": "code",
   "execution_count": 121,
   "metadata": {},
   "outputs": [
    {
     "data": {
      "text/html": [
       "<div>\n",
       "<style scoped>\n",
       "    .dataframe tbody tr th:only-of-type {\n",
       "        vertical-align: middle;\n",
       "    }\n",
       "\n",
       "    .dataframe tbody tr th {\n",
       "        vertical-align: top;\n",
       "    }\n",
       "\n",
       "    .dataframe thead th {\n",
       "        text-align: right;\n",
       "    }\n",
       "</style>\n",
       "<table border=\"1\" class=\"dataframe\">\n",
       "  <thead>\n",
       "    <tr style=\"text-align: right;\">\n",
       "      <th></th>\n",
       "      <th>LocationDesc</th>\n",
       "      <th>Data_Value</th>\n",
       "      <th>StratificationCategory1</th>\n",
       "      <th>Stratification1</th>\n",
       "      <th>StratificationCategory2</th>\n",
       "      <th>Stratification2</th>\n",
       "    </tr>\n",
       "  </thead>\n",
       "  <tbody>\n",
       "    <tr>\n",
       "      <th>15516</th>\n",
       "      <td>Cowley County</td>\n",
       "      <td>1592.8</td>\n",
       "      <td>Gender</td>\n",
       "      <td>Female</td>\n",
       "      <td>Race/Ethnicity</td>\n",
       "      <td>American Indian and Alaskan Native</td>\n",
       "    </tr>\n",
       "    <tr>\n",
       "      <th>25127</th>\n",
       "      <td>Neshoba County</td>\n",
       "      <td>1246.6</td>\n",
       "      <td>Gender</td>\n",
       "      <td>Female</td>\n",
       "      <td>Race/Ethnicity</td>\n",
       "      <td>American Indian and Alaskan Native</td>\n",
       "    </tr>\n",
       "    <tr>\n",
       "      <th>11851</th>\n",
       "      <td>Morgan County</td>\n",
       "      <td>986.8</td>\n",
       "      <td>Gender</td>\n",
       "      <td>Female</td>\n",
       "      <td>Race/Ethnicity</td>\n",
       "      <td>Black</td>\n",
       "    </tr>\n",
       "    <tr>\n",
       "      <th>17839</th>\n",
       "      <td>Franklin Parish</td>\n",
       "      <td>922.0</td>\n",
       "      <td>Gender</td>\n",
       "      <td>Female</td>\n",
       "      <td>Race/Ethnicity</td>\n",
       "      <td>White</td>\n",
       "    </tr>\n",
       "    <tr>\n",
       "      <th>25115</th>\n",
       "      <td>Lauderdale County</td>\n",
       "      <td>861.5</td>\n",
       "      <td>Gender</td>\n",
       "      <td>Female</td>\n",
       "      <td>Race/Ethnicity</td>\n",
       "      <td>American Indian and Alaskan Native</td>\n",
       "    </tr>\n",
       "  </tbody>\n",
       "</table>\n",
       "</div>"
      ],
      "text/plain": [
       "            LocationDesc  Data_Value StratificationCategory1 Stratification1  \\\n",
       "15516      Cowley County      1592.8                  Gender          Female   \n",
       "25127     Neshoba County      1246.6                  Gender          Female   \n",
       "11851      Morgan County       986.8                  Gender          Female   \n",
       "17839    Franklin Parish       922.0                  Gender          Female   \n",
       "25115  Lauderdale County       861.5                  Gender          Female   \n",
       "\n",
       "      StratificationCategory2                     Stratification2  \n",
       "15516          Race/Ethnicity  American Indian and Alaskan Native  \n",
       "25127          Race/Ethnicity  American Indian and Alaskan Native  \n",
       "11851          Race/Ethnicity                               Black  \n",
       "17839          Race/Ethnicity                               White  \n",
       "25115          Race/Ethnicity  American Indian and Alaskan Native  "
      ]
     },
     "execution_count": 121,
     "metadata": {},
     "output_type": "execute_result"
    }
   ],
   "source": [
    "#sorting the female data from highest number of deaths to lowest\n",
    "Females = HDM[HDM['Stratification1'] == 'Female']\n",
    "Females_sorted = Females.sort_values(\"Data_Value\", ascending = False)\n",
    "Females_sorted.head()"
   ]
  },
  {
   "cell_type": "code",
   "execution_count": 122,
   "metadata": {},
   "outputs": [
    {
     "data": {
      "text/html": [
       "<div>\n",
       "<style scoped>\n",
       "    .dataframe tbody tr th:only-of-type {\n",
       "        vertical-align: middle;\n",
       "    }\n",
       "\n",
       "    .dataframe tbody tr th {\n",
       "        vertical-align: top;\n",
       "    }\n",
       "\n",
       "    .dataframe thead th {\n",
       "        text-align: right;\n",
       "    }\n",
       "</style>\n",
       "<table border=\"1\" class=\"dataframe\">\n",
       "  <thead>\n",
       "    <tr style=\"text-align: right;\">\n",
       "      <th></th>\n",
       "      <th>LocationDesc</th>\n",
       "      <th>Data_Value</th>\n",
       "      <th>StratificationCategory1</th>\n",
       "      <th>Stratification1</th>\n",
       "      <th>StratificationCategory2</th>\n",
       "      <th>Stratification2</th>\n",
       "    </tr>\n",
       "  </thead>\n",
       "  <tbody>\n",
       "    <tr>\n",
       "      <th>55580</th>\n",
       "      <td>Sebastian County</td>\n",
       "      <td>6.0</td>\n",
       "      <td>Gender</td>\n",
       "      <td>Female</td>\n",
       "      <td>Race/Ethnicity</td>\n",
       "      <td>Hispanic</td>\n",
       "    </tr>\n",
       "    <tr>\n",
       "      <th>56004</th>\n",
       "      <td>Fayette County</td>\n",
       "      <td>13.2</td>\n",
       "      <td>Gender</td>\n",
       "      <td>Female</td>\n",
       "      <td>Race/Ethnicity</td>\n",
       "      <td>Asian and Pacific Islander</td>\n",
       "    </tr>\n",
       "    <tr>\n",
       "      <th>56092</th>\n",
       "      <td>Spotsylvania County</td>\n",
       "      <td>15.4</td>\n",
       "      <td>Gender</td>\n",
       "      <td>Female</td>\n",
       "      <td>Race/Ethnicity</td>\n",
       "      <td>Hispanic</td>\n",
       "    </tr>\n",
       "    <tr>\n",
       "      <th>27176</th>\n",
       "      <td>Orange County</td>\n",
       "      <td>17.0</td>\n",
       "      <td>Gender</td>\n",
       "      <td>Female</td>\n",
       "      <td>Race/Ethnicity</td>\n",
       "      <td>Hispanic</td>\n",
       "    </tr>\n",
       "    <tr>\n",
       "      <th>58386</th>\n",
       "      <td>Alamance County</td>\n",
       "      <td>17.2</td>\n",
       "      <td>Gender</td>\n",
       "      <td>Female</td>\n",
       "      <td>Race/Ethnicity</td>\n",
       "      <td>Hispanic</td>\n",
       "    </tr>\n",
       "  </tbody>\n",
       "</table>\n",
       "</div>"
      ],
      "text/plain": [
       "              LocationDesc  Data_Value StratificationCategory1  \\\n",
       "55580     Sebastian County         6.0                  Gender   \n",
       "56004       Fayette County        13.2                  Gender   \n",
       "56092  Spotsylvania County        15.4                  Gender   \n",
       "27176        Orange County        17.0                  Gender   \n",
       "58386      Alamance County        17.2                  Gender   \n",
       "\n",
       "      Stratification1 StratificationCategory2             Stratification2  \n",
       "55580          Female          Race/Ethnicity                    Hispanic  \n",
       "56004          Female          Race/Ethnicity  Asian and Pacific Islander  \n",
       "56092          Female          Race/Ethnicity                    Hispanic  \n",
       "27176          Female          Race/Ethnicity                    Hispanic  \n",
       "58386          Female          Race/Ethnicity                    Hispanic  "
      ]
     },
     "execution_count": 122,
     "metadata": {},
     "output_type": "execute_result"
    }
   ],
   "source": [
    "#sorting the female data from lowest number of deaths to highest\n",
    "Females_sorted = Females.sort_values(\"Data_Value\")\n",
    "Females_sorted.head()"
   ]
  },
  {
   "cell_type": "markdown",
   "metadata": {},
   "source": [
    "We can see from the above tables that the highest number of deaths have been of American Indian and Alaskan Native population, and the lowest have been for the Hispanic population for males and females both. \n",
    "\n",
    "It can be safely concluded that in the American population, the American Indian and Alaskan Native population is at highest risk and the Hispanic population is at the lowest risk of dying from heart diseases."
   ]
  },
  {
   "cell_type": "code",
   "execution_count": 123,
   "metadata": {},
   "outputs": [
    {
     "data": {
      "text/html": [
       "<div>\n",
       "<style scoped>\n",
       "    .dataframe tbody tr th:only-of-type {\n",
       "        vertical-align: middle;\n",
       "    }\n",
       "\n",
       "    .dataframe tbody tr th {\n",
       "        vertical-align: top;\n",
       "    }\n",
       "\n",
       "    .dataframe thead th {\n",
       "        text-align: right;\n",
       "    }\n",
       "</style>\n",
       "<table border=\"1\" class=\"dataframe\">\n",
       "  <thead>\n",
       "    <tr style=\"text-align: right;\">\n",
       "      <th></th>\n",
       "      <th>mean</th>\n",
       "      <th>amax</th>\n",
       "    </tr>\n",
       "    <tr>\n",
       "      <th>Stratification2</th>\n",
       "      <th></th>\n",
       "      <th></th>\n",
       "    </tr>\n",
       "  </thead>\n",
       "  <tbody>\n",
       "    <tr>\n",
       "      <th>American Indian and Alaskan Native</th>\n",
       "      <td>360.544368</td>\n",
       "      <td>1716.1</td>\n",
       "    </tr>\n",
       "    <tr>\n",
       "      <th>Asian and Pacific Islander</th>\n",
       "      <td>317.609253</td>\n",
       "      <td>945.2</td>\n",
       "    </tr>\n",
       "    <tr>\n",
       "      <th>Black</th>\n",
       "      <td>398.502918</td>\n",
       "      <td>1357.3</td>\n",
       "    </tr>\n",
       "    <tr>\n",
       "      <th>Hispanic</th>\n",
       "      <td>306.780209</td>\n",
       "      <td>968.7</td>\n",
       "    </tr>\n",
       "    <tr>\n",
       "      <th>White</th>\n",
       "      <td>368.514411</td>\n",
       "      <td>1324.1</td>\n",
       "    </tr>\n",
       "  </tbody>\n",
       "</table>\n",
       "</div>"
      ],
      "text/plain": [
       "                                          mean    amax\n",
       "Stratification2                                       \n",
       "American Indian and Alaskan Native  360.544368  1716.1\n",
       "Asian and Pacific Islander          317.609253   945.2\n",
       "Black                               398.502918  1357.3\n",
       "Hispanic                            306.780209   968.7\n",
       "White                               368.514411  1324.1"
      ]
     },
     "execution_count": 123,
     "metadata": {},
     "output_type": "execute_result"
    }
   ],
   "source": [
    "grouped = HDM.groupby('Stratification2')\n",
    "race_grouped = grouped['Data_Value']\n",
    "race_mean_max = race_grouped.agg([np.mean, np.max])\n",
    "race_mean_max"
   ]
  },
  {
   "cell_type": "code",
   "execution_count": 124,
   "metadata": {},
   "outputs": [
    {
     "data": {
      "text/plain": [
       "Text(0.5, 0, 'Mean Mortality Rate')"
      ]
     },
     "execution_count": 124,
     "metadata": {},
     "output_type": "execute_result"
    },
    {
     "data": {
      "image/png": "[encoded data removed]",
      "text/plain": [
       "<Figure size 432x288 with 1 Axes>"
      ]
     },
     "metadata": {
      "needs_background": "light"
     },
     "output_type": "display_data"
    }
   ],
   "source": [
    "import matplotlib.pyplot as plt\n",
    "%matplotlib inline\n",
    "\n",
    "race = HDM.pivot_table(values='Data_Value', index='Stratification2', aggfunc=np.mean, margins=True)\n",
    "race.plot(kind='barh', legend=False, colormap='Paired')\n",
    "mean_value = HDM['Data_Value'].mean()\n",
    "plt.ylabel('Race', fontsize = 18)\n",
    "plt.xlabel('Mean Mortality Rate', fontsize = 15)"
   ]
  },
  {
   "cell_type": "markdown",
   "metadata": {},
   "source": [
    "Finding the mean of total deaths for the year 2014 shows that the most overall deaths have been for the Black population, followed by White and then American Indian and Alaskan Native. THe lowest number of deaths have been for Hispanic population. "
   ]
  },
  {
   "cell_type": "code",
   "execution_count": 125,
   "metadata": {},
   "outputs": [
    {
     "data": {
      "image/png": "[encoded data removed]",
      "text/plain": [
       "<Figure size 1080x360 with 2 Axes>"
      ]
     },
     "metadata": {
      "needs_background": "light"
     },
     "output_type": "display_data"
    }
   ],
   "source": [
    "plt.figure(figsize=(15,5))\n",
    "plt.subplot(1, 2, 1)\n",
    "by_county = Females.groupby('LocationDesc').sum()\n",
    "by_county['Data_Value'].plot.line(colormap='spring')\n",
    "plt.xticks(rotation=45)\n",
    "plt.title('Mortality Data for Females')\n",
    "plt.ylabel('Mortality')\n",
    "plt.xlabel('County')\n",
    "\n",
    "plt.subplot(1, 2, 2)\n",
    "by_county = Males.groupby('LocationDesc').sum()\n",
    "by_county['Data_Value'].plot.line(colormap='winter')\n",
    "plt.xticks(rotation=45)\n",
    "\n",
    "plt.title('Mortality Data for Males')\n",
    "plt.ylabel('Mortality')\n",
    "plt.xlabel('County')\n",
    "\n",
    "plt.show()"
   ]
  },
  {
   "cell_type": "markdown",
   "metadata": {},
   "source": [
    "From the graphs we can see that mortality data varies across the counties for the two genders. The highest peaks for Males are higher than the highest peaks for females. We can also see from the highest peaks on the two graphs that for some counties, mortality is really high. However this is not enough to figure out which gender is at a higher risk. \n",
    "\n",
    "Research shows that heart disease is the leading cause of death for women as well as men. Although men tend to develop coronary artery disease earlier in life, after age 65 the risk of heart disease in women is almost the same as in men. One of the reasons why the mean mortality rate for men is higher in this data set could be due to the age group of the sample (i.e majority of women in the sample are younger than men).  \n",
    "\n",
    "Women have many of the same risk factors for heart disease as men, such as smoking, high blood pressure, and high cholesterol.\n",
    "Diabetes is a particularly important risk factor for developing heart disease in women. In order to compare the genders, we must do some more digging into the date. \n",
    "\n",
    "Doing some research on counties provided some interesting facts. We can see that the Orange County has one of the lowest mortality rates. It was found that the median household income in 2007 for Orange County was $ 61,899.\n",
    "\n",
    "For Cowley county and Neshoba County, with one of the highest mortality rates, the median household income was found to be below $40,000, with around 20% of the population living below the poverty line. \n",
    "\n",
    "Even though Orange County is one of the most populated counties of California, it had a lower mortality rate, indiciating that there may be a correlation between household income and mortality rate.\n",
    "\n"
   ]
  },
  {
   "cell_type": "markdown",
   "metadata": {},
   "source": [
    "To address the differences in gender on heart rate mortality, the data needs to be analyzed further. Lets explore gender variation across the different races.\n"
   ]
  },
  {
   "cell_type": "code",
   "execution_count": 130,
   "metadata": {},
   "outputs": [
    {
     "data": {
      "image/png": "[encoded data removed]",
      "text/plain": [
       "<Figure size 720x360 with 1 Axes>"
      ]
     },
     "metadata": {
      "needs_background": "light"
     },
     "output_type": "display_data"
    }
   ],
   "source": [
    "plt.figure(figsize=(10,5))\n",
    "Femalesby_race = Females.groupby('Stratification2').sum()\n",
    "Femalesby_race['Data_Value'].plot.line()\n",
    "Malesby_race = Males.groupby('Stratification2').sum()\n",
    "Malesby_race['Data_Value'].plot.line(colormap = 'summer')\n",
    "plt.xticks(rotation=20)\n",
    "plt.title('Mortality Rate')\n",
    "plt.ylabel('Mortality', fontsize = 15 )\n",
    "plt.xlabel('Race', fontsize = 15 )\n",
    "plt.legend([\"Females\", \"Males\"], loc =\"upper right\")\n",
    "\n",
    "plt.show()"
   ]
  },
  {
   "cell_type": "markdown",
   "metadata": {},
   "source": [
    "Conclusion\n",
    "\n",
    "It is important to study the gender differences in cardiovascular disease for the prevention, diagnosis, treatment and management of Heart Disease. \n",
    "\n",
    "We can see from the graph that for all races, males indeed have a higher mortality rate than females. The difference in mortality rates for the two genders are the highest for White, followed by Black. For other races they are relatively closer to each other.  \n",
    "\n",
    "Men and Women share some classis risk factor for heart disease such as age, hypertension, total cholesterol and low-density lipoprotein (LDL)-cholesterol, but these have a great influence in men. But smoking, diabetes, triglyceride and high-density lipoprotein (HDL)-cholesterol levels mainly have effect on women. For women, cardiovascular disease is also affected by some female-specific risk factors. These variations in risk factors explain why there is a variation in the mortality race across the two genders. \n",
    "\n",
    "Another interesting thing to note is that the mortality rate for White females is much lower than other races, while the mortality rate for White males is the highest among other races. This gender disparity in White adults could be due to outliers, so this needs to explored a little bit more. \n",
    "\n",
    "Doing some research confirms that black women, are indeed at ahigher chance of dying from heart disease compared to white women, according to the National Heart, Lung, and Blood Institute. Next steps would be to study the race variations across the two genders. "
   ]
  }
 ],
 "metadata": {
  "kernelspec": {
   "display_name": "Python 3",
   "language": "python",
   "name": "python3"
  },
  "language_info": {
   "codemirror_mode": {
    "name": "ipython",
    "version": 3
   },
   "file_extension": ".py",
   "mimetype": "text/x-python",
   "name": "python",
   "nbconvert_exporter": "python",
   "pygments_lexer": "ipython3",
   "version": "3.8.3"
  }
 },
 "nbformat": 4,
 "nbformat_minor": 4
}
